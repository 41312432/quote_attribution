{
 "cells": [
  {
   "cell_type": "markdown",
   "id": "8020a242",
   "metadata": {},
   "source": [
    "# Harry potter crawling\n"
   ]
  },
  {
   "cell_type": "code",
   "execution_count": 1,
   "id": "df8fc10c",
   "metadata": {},
   "outputs": [
    {
     "name": "stdout",
     "output_type": "stream",
     "text": [
      "<Response [200]>\n"
     ]
    }
   ],
   "source": [
    "import json\n",
    "import requests\n",
    "\n",
    "# Harry Potter\n",
    "url = \"https://api.personality-database.com/api/v1/profiles?offset=0&limit=50&cid=12&pid=2&sort=top&sub_cat_id=624&cat_id=12&property_id=2\"\n",
    "# Batman\n",
    "url = \"https://api.personality-database.com/api/v1/profiles?offset=0&limit=50&cid=11&pid=2&sort=top&sub_cat_id=1477&cat_id=11&property_id=2\"\n",
    "\n",
    "\n",
    "r = requests.get(url)\n",
    "print(r)\n",
    "\n",
    "dict = json.loads(r.text)\n",
    "\n",
    "# print(dict)\n"
   ]
  },
  {
   "cell_type": "code",
   "execution_count": 2,
   "id": "7f98b084",
   "metadata": {},
   "outputs": [
    {
     "name": "stdout",
     "output_type": "stream",
     "text": [
      "{'alt_subcategory': '', 'cat_id': 11, 'comment_count': 10, 'has_voted': False, 'id': 11106, 'profile_id': 11106, 'mbti_profile': 'The Joker', 'profile_image_url': 'https://static1.personality-database.com/profile_images/8833894023a543bdaeb9895481371627.png', 'sub_cat_id': 1477, 'subcategory': 'Batman Arkham Series', 'vote_count': 248, 'personality_type': 'ENTP 7w8'}\n",
      "50\n",
      "\n",
      "Batman Arkham Series\n"
     ]
    }
   ],
   "source": [
    "# load profiles & number of profiles\n",
    "profiles = dict['profiles']\n",
    "num_profiles = len(dict['profiles'])\n",
    "\n",
    "# example of format of profiles\n",
    "print(profiles[1])\n",
    "print(num_profiles)\n",
    "print()\n",
    "\n",
    "# load the MOVIE NAME\n",
    "movie = profiles[1]['subcategory']\n",
    "print(movie)"
   ]
  },
  {
   "cell_type": "code",
   "execution_count": 3,
   "id": "9593d3a8",
   "metadata": {},
   "outputs": [
    {
     "name": "stdout",
     "output_type": "stream",
     "text": [
      "['Bruce Wayne “Batman” (Rocksteady Series)', 'The Joker', 'Harley Quinn', 'Jonathan Crane \"Scarecrow\"', 'Jason Todd \"Arkham Knight\"', 'Edward Nygma “The Riddler”', 'Selina Kyle “Catwoman”', 'Dick Grayson \"Nightwing\"', 'Deathstroke', 'Mr. Freeze', 'Ra’s Al Ghul', 'Bruce Wayne \"Batman\" (Arkham Origins)', 'Poison Ivy', 'Bane', 'Hugo Strange', 'Two-Face', 'Oswald Cobblepot \"The Penguin\"', 'Alfred Pennyworth', 'Tim Drake “Robin”', 'James Gordon', 'Deadshot', 'Mad Hatter', 'Roman Sionis \"Black Mask\"', 'Barbara Gordon “Oracle”', 'Waylon Jones “Killer Croc”', 'Azrael', 'Lazlo Valentin \"Professor Pyg\"', 'Clayface', 'Victor Zsasz', 'Lady Shiva', 'Talia Al Ghul', 'Thomas Elliot “Hush”', 'Aaron Cash', 'Warden Quincy Sharp', 'Lonnie Machin \"Anarky\"', 'Johnny Charisma', 'Amadeus Arkham', 'Christina Bell', 'Jonathan Crane “Scarecrow” (Arkham Asylum)', 'Copperhead', 'Dr. Penelope Young', 'Albert King', 'Henry Adams', 'Clark Kent “Superman”', 'George “Digger” Harkness “Captain Boomerang” (Kill the Justice League)', 'Deacon Blackfire', 'Militia', 'Amanda Waller', 'Kirk Langstrom “Man-Bat”', 'Garfield Lynns \"Firefly\"']\n",
      "['INTJ', 'ENTP', 'ESFP', 'INTJ', 'ISTP', 'INTP', 'ESTP', 'ENTP', 'ISTP', 'INFJ', 'INFJ', 'INTJ', 'INFJ', 'ISTP', 'INTJ', 'ESTJ', 'ESTJ', 'ISFJ', 'INTP', 'ISTJ', 'ISTP', 'ENFP', 'ENTJ', 'INFJ', 'ISTP', 'ISTJ', 'ENFP', 'ISFP', 'ISFP', 'ISTP', 'ENTJ', 'ENTJ', 'ISTJ', 'ESTJ', 'INFJ', 'ESFP', 'INFJ', 'ENFP', 'INTP', 'ESTP', 'INTP', 'ESTP', 'ENTP', 'ISFJ', 'ESTP', 'ENFJ', 'ESTJ', 'ISTJ', 'INTP', 'ISFP']\n",
      "[380, 248, 178, 155, 146, 128, 108, 58, 53, 60, 42, 87, 61, 39, 54, 30, 45, 43, 48, 31, 30, 32, 34, 33, 20, 32, 18, 15, 22, 11, 18, 16, 10, 11, 11, 9, 15, 9, 10, 9, 9, 6, 4, 5, 4, 6, 4, 5, 1, 2]\n"
     ]
    }
   ],
   "source": [
    "# character / mbti / votes\n",
    "characters = []\n",
    "mbti = []\n",
    "votes = []\n",
    "\n",
    "for i in range(num_profiles) :\n",
    "    characters.append(profiles[i]['mbti_profile'])\n",
    "    mbti.append(profiles[i]['personality_type'][:4])\n",
    "    votes.append(profiles[i]['vote_count'])\n",
    "\n",
    "print(characters)\n",
    "print(mbti)\n",
    "print(votes)\n"
   ]
  },
  {
   "cell_type": "code",
   "execution_count": 4,
   "id": "c13ee159",
   "metadata": {},
   "outputs": [],
   "source": [
    "import csv\n",
    "\n",
    "f = open('./MBTI_DATA/mbti_' + movie + '.csv', 'w', newline='')\n",
    "wr = csv.writer(f)\n",
    "\n",
    "for i in range(num_profiles):\n",
    "    wr.writerow([movie, characters[i], mbti[i], votes[i]])\n",
    "\n",
    "f.close()"
   ]
  },
  {
   "cell_type": "markdown",
   "id": "a7d42729",
   "metadata": {},
   "source": [
    "# json 링크id만 바꿔서 다른 소설들 긁어오기\n",
    "# quote 먼저 긁어서 해리포터 먼저 확인하기\n",
    "# 몇가지 핸들링 필요\n",
    "# 필요없는 캐릭터 버리기 등"
   ]
  },
  {
   "cell_type": "markdown",
   "id": "57071232",
   "metadata": {},
   "source": []
  }
 ],
 "metadata": {
  "kernelspec": {
   "display_name": "Python 3.8.9 64-bit",
   "language": "python",
   "name": "python3"
  },
  "language_info": {
   "codemirror_mode": {
    "name": "ipython",
    "version": 3
   },
   "file_extension": ".py",
   "mimetype": "text/x-python",
   "name": "python",
   "nbconvert_exporter": "python",
   "pygments_lexer": "ipython3",
   "version": "3.10.4"
  },
  "vscode": {
   "interpreter": {
    "hash": "31f2aee4e71d21fbe5cf8b01ff0e069b9275f58929596ceb00d14d90e3e16cd6"
   }
  }
 },
 "nbformat": 4,
 "nbformat_minor": 5
}
