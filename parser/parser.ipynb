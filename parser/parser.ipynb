{
 "cells": [
  {
   "cell_type": "code",
   "execution_count": 1,
   "metadata": {},
   "outputs": [],
   "source": [
    "from nltk.tokenize import sent_tokenize"
   ]
  },
  {
   "cell_type": "code",
   "execution_count": 2,
   "metadata": {},
   "outputs": [],
   "source": [
    "import re"
   ]
  },
  {
   "cell_type": "code",
   "execution_count": 3,
   "metadata": {},
   "outputs": [],
   "source": [
    "with open(\"../data/pnp.txt\", 'r', encoding='utf-8') as file:\n",
    "    data_lines = file.readlines()"
   ]
  },
  {
   "cell_type": "code",
   "execution_count": 28,
   "metadata": {},
   "outputs": [],
   "source": [
    "q_split = []\n",
    "\n",
    "for sentence in data_lines:\n",
    "    sentence = sentence.strip('\\n')\n",
    "    quote = re.findall(r'\"([^\"]*)\"', sentence)\n",
    "    not_quote = re.sub(r'\"([^\"]*)\"', \"\", sentence)\n",
    "\n",
    "    if not quote:\n",
    "        q_split.append(sentence.strip())\n",
    "    else:\n",
    "        for s in sentence.split('\"'):\n",
    "            if s in quote and s != '':\n",
    "                q_split.append('\"'+s+'\"')\n",
    "            elif s in not_quote and s != '':\n",
    "                q_split.append(s.strip())\n",
    "\n",
    "raw_data = []\n",
    "\n",
    "for sentence in q_split:\n",
    "    if sentence and sentence[0] != '\"':\n",
    "        for t in sent_tokenize(sentence):\n",
    "            raw_data.append(t)\n",
    "    else:\n",
    "        raw_data.append(sentence)"
   ]
  },
  {
   "cell_type": "code",
   "execution_count": null,
   "metadata": {},
   "outputs": [],
   "source": []
  }
 ],
 "metadata": {
  "kernelspec": {
   "display_name": "Python 3.9.12 ('base')",
   "language": "python",
   "name": "python3"
  },
  "language_info": {
   "codemirror_mode": {
    "name": "ipython",
    "version": 3
   },
   "file_extension": ".py",
   "mimetype": "text/x-python",
   "name": "python",
   "nbconvert_exporter": "python",
   "pygments_lexer": "ipython3",
   "version": "3.9.12"
  },
  "orig_nbformat": 4,
  "vscode": {
   "interpreter": {
    "hash": "55318ce83133ef078d3570415b5105a74962c2b6e94ef4711f08cb7d1a9ada90"
   }
  }
 },
 "nbformat": 4,
 "nbformat_minor": 2
}
