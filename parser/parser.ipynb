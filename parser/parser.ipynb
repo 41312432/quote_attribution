{
 "cells": [
  {
   "cell_type": "code",
   "execution_count": 1,
   "metadata": {},
   "outputs": [],
   "source": [
    "from nltk.tokenize import sent_tokenize"
   ]
  },
  {
   "cell_type": "code",
   "execution_count": 2,
   "metadata": {},
   "outputs": [],
   "source": [
    "import re"
   ]
  },
  {
   "cell_type": "code",
   "execution_count": 3,
   "metadata": {},
   "outputs": [],
   "source": [
    "with open(\"../data/pnp_final.txt\", 'r', encoding='utf-8') as file:\n",
    "    data_lines = file.readlines()"
   ]
  },
  {
   "cell_type": "code",
   "execution_count": 4,
   "metadata": {},
   "outputs": [],
   "source": [
    "q_split = []\n",
    "\n",
    "for sentence in data_lines:\n",
    "    sentence = sentence.strip('\\n')\n",
    "    if sentence == '':\n",
    "        continue\n",
    "    quote = re.findall(r'\"([^\"]*)\"', sentence)\n",
    "    not_quote = re.sub(r'\"([^\"]*)\"', \"\", sentence)\n",
    "\n",
    "    if not quote:\n",
    "        q_split.append(sentence.strip())\n",
    "    else:\n",
    "        for s in sentence.split('\"'):\n",
    "            if s == '' or s == ' ' or s =='\\n':\n",
    "                continue\n",
    "            if s in quote:\n",
    "                q_split.append('\"'+s+'\"')\n",
    "            elif s in not_quote:\n",
    "                q_split.append(s.strip())\n",
    "\n",
    "#10=window_size\n",
    "raw_data = ['dummy']*10\n",
    "\n",
    "for sentence in q_split:\n",
    "    if sentence and sentence[0] != '\"':\n",
    "        for t in sent_tokenize(sentence):\n",
    "            raw_data.append(t)\n",
    "    else:\n",
    "        raw_data.append(sentence)\n",
    "\n",
    "raw_data += (['dummy']*10)"
   ]
  },
  {
   "cell_type": "code",
   "execution_count": 7,
   "metadata": {},
   "outputs": [],
   "source": [
    "import xml.etree.ElementTree as ET\n",
    "quoteli = ET.parse('../data/pnp_quoteli3_err_detected.xml')\n",
    "quoteli_root = quoteli.getroot()\n",
    "\n",
    "# for x in quoteli_root.find('text').findall('quote'):\n",
    "#     print(x.text, x.attrib.pop('speaker') ,end='\\n\\n')\n",
    "\n",
    "quote_speakers = []\n",
    "\n",
    "for q in quoteli_root.find('text').findall('quote'):\n",
    "    quote_speakers.append(q.attrib['speaker'])"
   ]
  },
  {
   "cell_type": "code",
   "execution_count": 8,
   "metadata": {},
   "outputs": [],
   "source": [
    "# for r in raw_data:\n",
    "#     if r and r[0] == '\"' and r[-1] != '\"':\n",
    "#         print(r)\n",
    "#     elif r and r[-1] == '\"' and r[0] != '\"':\n",
    "#         print(r)"
   ]
  },
  {
   "cell_type": "code",
   "execution_count": 9,
   "metadata": {},
   "outputs": [
    {
     "name": "stdout",
     "output_type": "stream",
     "text": [
      "1574\n",
      "1574\n"
     ]
    }
   ],
   "source": [
    "print(len(quote_speakers))\n",
    "\n",
    "print(len(list(filter(lambda x: x and x[0] == '\"' and x[-1] == '\"', raw_data))))"
   ]
  },
  {
   "cell_type": "code",
   "execution_count": 10,
   "metadata": {},
   "outputs": [],
   "source": [
    "instance_index = 0\n",
    "speaker_index = 0\n",
    "\n",
    "instances = []\n",
    "\n",
    "for raw_index in range(len(raw_data)):\n",
    "    if raw_data[raw_index] and raw_data[raw_index][0] == '\"':\n",
    "        instance = []\n",
    "\n",
    "        #line[0]\n",
    "        instance.append(f'instance index : {instance_index}')\n",
    "\n",
    "        #line[1~21]\n",
    "        for i in range(raw_index-10, raw_index+11):\n",
    "            instance.append(raw_data[i])\n",
    "        \n",
    "        #line[22]\n",
    "        instance.append(f'speaker : {quote_speakers[speaker_index]}')\n",
    "\n",
    "        instances.append(instance)\n",
    "\n",
    "        instance_index += 1\n",
    "        speaker_index += 1\n"
   ]
  },
  {
   "cell_type": "code",
   "execution_count": 15,
   "metadata": {},
   "outputs": [],
   "source": [
    "f = open('../data/pnp_instance.txt', 'w')\n",
    "\n",
    "for i in instances:\n",
    "    for line in i:\n",
    "        f.write(line)\n",
    "        f.write('\\n')\n",
    "    f.write('\\n')"
   ]
  },
  {
   "cell_type": "code",
   "execution_count": null,
   "metadata": {},
   "outputs": [],
   "source": []
  }
 ],
 "metadata": {
  "kernelspec": {
   "display_name": "Python 3.9.12 ('base')",
   "language": "python",
   "name": "python3"
  },
  "language_info": {
   "codemirror_mode": {
    "name": "ipython",
    "version": 3
   },
   "file_extension": ".py",
   "mimetype": "text/x-python",
   "name": "python",
   "nbconvert_exporter": "python",
   "pygments_lexer": "ipython3",
   "version": "3.9.12"
  },
  "orig_nbformat": 4,
  "vscode": {
   "interpreter": {
    "hash": "55318ce83133ef078d3570415b5105a74962c2b6e94ef4711f08cb7d1a9ada90"
   }
  }
 },
 "nbformat": 4,
 "nbformat_minor": 2
}
