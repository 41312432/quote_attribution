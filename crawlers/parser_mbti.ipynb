{
 "cells": [
  {
   "cell_type": "code",
   "execution_count": 44,
   "id": "f52fa1bb-8663-4ece-97dc-cdec83d4951c",
   "metadata": {},
   "outputs": [],
   "source": [
    "from bs4 import BeautifulSoup\n",
    "\n",
    "\n",
    "fname_input = 'Cartoons MBTI - Characters Personality Type.html'\n",
    "# fname_input = 'Superheroes MBTI - Characters Personality Type.html'\n",
    "# fname_input = 'Movies MBTI - Characters Personality Type.html'\n",
    "\n",
    "fname_output = fname_input.split(' ')[0] + \".txt\"\n",
    "\n",
    "fout = open(fname_output, 'w', encoding='utf-8')\n",
    "\n",
    "fout.write(\"name\\tlink\\tmovie_title\\tnum_votes\\tnum_comments\\tmbti\\n\")\n",
    "\n",
    "with open(fname_input) as fp:\n",
    "    soup = BeautifulSoup(fp, 'html.parser')\n",
    "    for a in soup.find_all('a', attrs={\"class\" : \"profile-card-link\"}):        \n",
    "        link = a['href']\n",
    "        name = a.find('h2').text.strip()\n",
    "        movie_title = a.find_all('label')[0]\n",
    "        votes_comments = a.find_all('label')[1].text.split('/')\n",
    "        num_votes = votes_comments[0]\n",
    "        num_comments = votes_comments[1]\n",
    "        mbti = a.find('div', attrs={\"class\": \"personality\"}).text\n",
    "        \n",
    "        print_line = ''\n",
    "        print_line += name + \"\\t\"\n",
    "        print_line += link + \"\\t\"\n",
    "        print_line += movie_title.text + \"\\t\"\n",
    "        print_line += num_votes + \"\\t\"\n",
    "        print_line += num_comments + \"\\t\"\n",
    "        print_line += mbti + \"\\n\"\n",
    "        fout.write(print_line)\n",
    "fout.close()"
   ]
  }
 ],
 "metadata": {
  "kernelspec": {
   "display_name": "Python 3 (ipykernel)",
   "language": "python",
   "name": "python3"
  },
  "language_info": {
   "codemirror_mode": {
    "name": "ipython",
    "version": 3
   },
   "file_extension": ".py",
   "mimetype": "text/x-python",
   "name": "python",
   "nbconvert_exporter": "python",
   "pygments_lexer": "ipython3",
   "version": "3.9.7"
  }
 },
 "nbformat": 4,
 "nbformat_minor": 5
}
